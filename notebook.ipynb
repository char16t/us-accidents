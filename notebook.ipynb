{
  "nbformat": 4,
  "nbformat_minor": 0,
  "metadata": {
    "colab": {
      "provenance": [],
      "authorship_tag": "ABX9TyMjMsfbhYP8fRqym2ekcDBa"
    },
    "kernelspec": {
      "name": "python3",
      "display_name": "Python 3"
    },
    "language_info": {
      "name": "python"
    }
  },
  "cells": [
    {
      "cell_type": "code",
      "source": [
        "import pandas as pd\n",
        "import numpy as np\n",
        "from sklearn.preprocessing import LabelEncoder\n",
        "from xgboost import XGBClassifier"
      ],
      "metadata": {
        "id": "voU-ZE7vK4y6"
      },
      "execution_count": 25,
      "outputs": []
    },
    {
      "cell_type": "code",
      "source": [
        "df = pd.read_csv('data/iris.csv')\n",
        "\n",
        "# Remove unuseful columns\n",
        "df.drop(['Id'], axis=1, inplace=True)\n",
        "\n",
        "# Encode categorial features\n",
        "le = LabelEncoder()\n",
        "df['Species'] = le.fit_transform(df['Species'])\n",
        "\n",
        "\n",
        "X_train = df.drop(['Species'], axis=1).values\n",
        "y_train = df['Species']\n",
        "\n",
        "cls = XGBClassifier()\n",
        "cls.fit(X_train, y_train)\n",
        "\n",
        "X_pred = [5.1, 3.2, 1.5, 0.5]\n",
        "y_pred = cls.predict([X_pred])\n",
        "print(\"Prediction is: {}\".format(le.inverse_transform(y_pred)))"
      ],
      "metadata": {
        "colab": {
          "base_uri": "https://localhost:8080/"
        },
        "id": "eK6OP-R6M9QU",
        "outputId": "4a8465b9-e293-4af8-f12f-334751709575"
      },
      "execution_count": 24,
      "outputs": [
        {
          "output_type": "stream",
          "name": "stdout",
          "text": [
            "Prediction is: ['Iris-setosa']\n"
          ]
        }
      ]
    }
  ]
}